{
  "nbformat": 4,
  "nbformat_minor": 0,
  "metadata": {
    "colab": {
      "name": "patent_assoication_rule.ipynb",
      "provenance": [],
      "collapsed_sections": [],
      "include_colab_link": true
    },
    "kernelspec": {
      "name": "python3",
      "display_name": "Python 3"
    },
    "language_info": {
      "name": "python"
    }
  },
  "cells": [
    {
      "cell_type": "markdown",
      "metadata": {
        "id": "view-in-github",
        "colab_type": "text"
      },
      "source": [
        "<a href=\"https://colab.research.google.com/github/childishwang/NLP/blob/gh-pages/patent_assoication_rule.ipynb\" target=\"_parent\"><img src=\"https://colab.research.google.com/assets/colab-badge.svg\" alt=\"Open In Colab\"/></a>"
      ]
    },
    {
      "cell_type": "markdown",
      "metadata": {
        "id": "bw09rk_16YCX"
      },
      "source": [
        "Frequent Patten mining\n",
        "\n",
        "\n",
        "\n"
      ]
    },
    {
      "cell_type": "code",
      "metadata": {
        "colab": {
          "base_uri": "https://localhost:8080/"
        },
        "id": "5mYo6mIjaobl",
        "outputId": "a23decf4-381d-4b13-d58f-a35531e2cacd"
      },
      "source": [
        "!pip install mlxtend  #!pip install mlxtend --upgrade"
      ],
      "execution_count": 2,
      "outputs": [
        {
          "output_type": "stream",
          "text": [
            "Requirement already satisfied: mlxtend in /usr/local/lib/python3.7/dist-packages (0.14.0)\n",
            "Requirement already satisfied: scipy>=0.17 in /usr/local/lib/python3.7/dist-packages (from mlxtend) (1.4.1)\n",
            "Requirement already satisfied: scikit-learn>=0.18 in /usr/local/lib/python3.7/dist-packages (from mlxtend) (0.22.2.post1)\n",
            "Requirement already satisfied: matplotlib>=1.5.1 in /usr/local/lib/python3.7/dist-packages (from mlxtend) (3.2.2)\n",
            "Requirement already satisfied: numpy>=1.10.4 in /usr/local/lib/python3.7/dist-packages (from mlxtend) (1.19.5)\n",
            "Requirement already satisfied: pandas>=0.17.1 in /usr/local/lib/python3.7/dist-packages (from mlxtend) (1.1.5)\n",
            "Requirement already satisfied: setuptools in /usr/local/lib/python3.7/dist-packages (from mlxtend) (57.2.0)\n",
            "Requirement already satisfied: cycler>=0.10 in /usr/local/lib/python3.7/dist-packages (from matplotlib>=1.5.1->mlxtend) (0.10.0)\n",
            "Requirement already satisfied: pyparsing!=2.0.4,!=2.1.2,!=2.1.6,>=2.0.1 in /usr/local/lib/python3.7/dist-packages (from matplotlib>=1.5.1->mlxtend) (2.4.7)\n",
            "Requirement already satisfied: kiwisolver>=1.0.1 in /usr/local/lib/python3.7/dist-packages (from matplotlib>=1.5.1->mlxtend) (1.3.1)\n",
            "Requirement already satisfied: python-dateutil>=2.1 in /usr/local/lib/python3.7/dist-packages (from matplotlib>=1.5.1->mlxtend) (2.8.1)\n",
            "Requirement already satisfied: six in /usr/local/lib/python3.7/dist-packages (from cycler>=0.10->matplotlib>=1.5.1->mlxtend) (1.15.0)\n",
            "Requirement already satisfied: pytz>=2017.2 in /usr/local/lib/python3.7/dist-packages (from pandas>=0.17.1->mlxtend) (2018.9)\n",
            "Requirement already satisfied: joblib>=0.11 in /usr/local/lib/python3.7/dist-packages (from scikit-learn>=0.18->mlxtend) (1.0.1)\n"
          ],
          "name": "stdout"
        }
      ]
    },
    {
      "cell_type": "code",
      "metadata": {
        "colab": {
          "base_uri": "https://localhost:8080/"
        },
        "id": "lnaPfqXyfo5H",
        "outputId": "9c6292e1-232f-449d-f735-addb4b8474e1"
      },
      "source": [
        "#import requests, os\n",
        "import pandas as pd, numpy as np, os\n",
        "os.getcwd() ; os.listdir()\n",
        "# import data from google drive\n",
        "from google.colab import drive\n",
        "drive.mount('/content/drive')\n",
        "os.chdir('/content/drive/MyDrive/1. AI/AIProject/Patent_WL')\n",
        "DF_patent_G05B=pd.read_excel(open('G05B_Assignee(2).xlsx', 'rb'),sheet_name=0) "
      ],
      "execution_count": 3,
      "outputs": [
        {
          "output_type": "stream",
          "text": [
            "Mounted at /content/drive\n"
          ],
          "name": "stdout"
        }
      ]
    },
    {
      "cell_type": "code",
      "metadata": {
        "colab": {
          "base_uri": "https://localhost:8080/"
        },
        "id": "95P-4W6NnA2I",
        "outputId": "4f7d14a0-8cdd-41d2-d72e-4e2c096533d7"
      },
      "source": [
        "DF_G05B=pd.read_excel(open('G05B_Assignee(2).xlsx', 'rb'),sheet_name=0) \n",
        "DF_B23Q=pd.read_excel(open('B23Q_Assignee(2).xlsx', 'rb'),sheet_name=0) \n",
        "DF_G06F=pd.read_excel(open('G06F_Assignee(2).xlsx', 'rb'),sheet_name=0)\n",
        "print (DF_patent_G05B.columns)"
      ],
      "execution_count": 4,
      "outputs": [
        {
          "output_type": "stream",
          "text": [
            "Index(['Publ. Number', 'Publ. Date', 'Year', 'Title', 'Assignee',\n",
            "       'Main IPC Class', 'IPC Class', 'Adjust_Name', 'AGE', 'EMPLOYEES',\n",
            "       'REVENUES', 'PRODUCTIVITY', 'NATION_CODE', 'LISTED_CODE',\n",
            "       'APPICATION_CODE', 'STATUS', 'CHECK', 'Unnamed: 17'],\n",
            "      dtype='object')\n"
          ],
          "name": "stdout"
        }
      ]
    },
    {
      "cell_type": "code",
      "metadata": {
        "id": "vf4r7vEZmc7U"
      },
      "source": [
        "DF1=DF_G05B[['Adjust_Name','IPC Class', 'Year']]; DF2=DF_B23Q[['Adjust_Name','IPC Class', 'Year']]; DF3=DF_G06F[['Adjust_Name','IPC Class', 'Year']]; \n",
        "DF1=DF1.sort_values(by=['Adjust_Name','Year']) ; DF2=DF2.sort_values(by=['Adjust_Name','Year']); DF3=DF3.sort_values(by=['Adjust_Name','Year'])\n",
        "DF_all=DF1.append(DF2).append(DF3)\n",
        "list_name=DF_all['Adjust_Name'].unique()"
      ],
      "execution_count": 5,
      "outputs": []
    },
    {
      "cell_type": "code",
      "metadata": {
        "id": "Qnxi20U0tKlm"
      },
      "source": [
        "D=DF_all.groupby(['Adjust_Name','Year','IPC Class']).size()\n",
        "D.to_csv('DF_patent.csv')\n",
        "DF_agg=pd.read_csv('DF_patent.csv')\n",
        "DF_agg.columns=['Adjust_Name', 'Year', 'IPC Class', 'Count']"
      ],
      "execution_count": 6,
      "outputs": []
    },
    {
      "cell_type": "code",
      "metadata": {
        "id": "QSSCivpywKs-"
      },
      "source": [
        "R=[]\n",
        "for i in range (0, len(list_name)):\n",
        "  list_IPCbyName=DF_agg[DF_agg['Adjust_Name']==list_name[i]]['IPC Class'].tolist()\n",
        "  R.append(list_IPCbyName)\n",
        "  #print(list_name[i],list_IPCbyName)\n",
        "#R=[['A','B','C'],['B','C'],['A','C']] # example to understand package\n",
        "\n",
        "dataset = R"
      ],
      "execution_count": 19,
      "outputs": []
    },
    {
      "cell_type": "code",
      "metadata": {
        "id": "fe4R7_MsfD3D"
      },
      "source": [
        "# \n",
        "from mlxtend.preprocessing import TransactionEncoder\n",
        "from mlxtend.frequent_patterns import apriori,association_rules\n",
        "te = TransactionEncoder()\n",
        "te_ary = te.fit(dataset).transform(dataset)\n",
        "df = pd.DataFrame(te_ary, columns=te.columns_)\n",
        "DF_Result=apriori(df, min_support=0.1, use_colnames=True)"
      ],
      "execution_count": 8,
      "outputs": []
    },
    {
      "cell_type": "code",
      "metadata": {
        "id": "op7Y_1dL6gfL"
      },
      "source": [
        "DF_Result"
      ],
      "execution_count": null,
      "outputs": []
    },
    {
      "cell_type": "code",
      "metadata": {
        "id": "Q5FY7lnwct3O"
      },
      "source": [
        "df_ar = association_rules(DF_Result, metric = \"confidence\", min_threshold = 0.1)\n",
        "df_ar"
      ],
      "execution_count": null,
      "outputs": []
    },
    {
      "cell_type": "code",
      "metadata": {
        "colab": {
          "base_uri": "https://localhost:8080/"
        },
        "id": "mN99h-nk7xO2",
        "outputId": "e8409763-ad45-480c-82bf-905325d35fa2"
      },
      "source": [
        "!pip install pymining"
      ],
      "execution_count": 12,
      "outputs": [
        {
          "output_type": "stream",
          "text": [
            "Collecting pymining\n",
            "  Downloading pymining-0.2-py2.py3-none-any.whl (9.4 kB)\n",
            "Installing collected packages: pymining\n",
            "Successfully installed pymining-0.2\n"
          ],
          "name": "stdout"
        }
      ]
    },
    {
      "cell_type": "code",
      "metadata": {
        "colab": {
          "base_uri": "https://localhost:8080/"
        },
        "id": "YUGvBmo_70x3",
        "outputId": "764b4447-c0ea-4000-d4b3-4b2552510c7d"
      },
      "source": [
        "from pymining import itemmining\n",
        "#transactions = (('a', 'b', 'c'), ('b'), ('a'), ('a', 'c', 'd'), ('b', 'c'), ('b', 'c'))\n",
        "transactions= dataset\n",
        "relim_input = itemmining.get_relim_input(transactions)\n",
        "report = itemmining.relim(relim_input, min_support=25)\n",
        "report"
      ],
      "execution_count": 28,
      "outputs": [
        {
          "output_type": "execute_result",
          "data": {
            "text/plain": [
              "{frozenset({'B23Q 017'}): 27,\n",
              " frozenset({'G06F 017'}): 27,\n",
              " frozenset({'B23Q 001'}): 35,\n",
              " frozenset({'B23Q 001', 'G06F 019'}): 26,\n",
              " frozenset({'B23Q 011'}): 40,\n",
              " frozenset({'B23Q 003', 'B23Q 011'}): 28,\n",
              " frozenset({'B23Q 011', 'G05B 019'}): 27,\n",
              " frozenset({'B23Q 011', 'G06F 019'}): 26,\n",
              " frozenset({'B23Q 003'}): 47,\n",
              " frozenset({'B23Q 003', 'G05B 019'}): 29,\n",
              " frozenset({'G06F 019'}): 63,\n",
              " frozenset({'B23Q 003', 'G06F 019'}): 29,\n",
              " frozenset({'G05B 019'}): 60,\n",
              " frozenset({'G05B 019', 'G06F 019'}): 42}"
            ]
          },
          "metadata": {
            "tags": []
          },
          "execution_count": 28
        }
      ]
    },
    {
      "cell_type": "code",
      "metadata": {
        "id": "rueHl7Eo75Jr"
      },
      "source": [
        "# Test performance of multiple algorithms\n",
        "from pymining import perftesting\n",
        "perftesting.test_itemset_perf()\n",
        "#Random transactions generated with seed None"
      ],
      "execution_count": null,
      "outputs": []
    },
    {
      "cell_type": "code",
      "metadata": {
        "colab": {
          "base_uri": "https://localhost:8080/"
        },
        "id": "xXHzX4IV8BOI",
        "outputId": "5277f17f-2822-41d3-fdb7-42dde1a18dc1"
      },
      "source": [
        "ßfrom pymining import itemmining, assocrules, perftesting\n",
        "transactions =  dataset#perftesting.get_default_transactions()\n",
        "relim_input = itemmining.get_relim_input(transactions)\n",
        "item_sets = itemmining.relim(relim_input, min_support=2)\n",
        "rules = assocrules.mine_assoc_rules(item_sets, min_support=25, min_confidence=0.2)\n",
        "rules"
      ],
      "execution_count": 26,
      "outputs": [
        {
          "output_type": "execute_result",
          "data": {
            "text/plain": [
              "[(frozenset({'G06F 019'}), frozenset({'B23Q 001'}), 26, 0.4126984126984127),\n",
              " (frozenset({'B23Q 001'}), frozenset({'G06F 019'}), 26, 0.7428571428571429),\n",
              " (frozenset({'B23Q 003'}), frozenset({'B23Q 011'}), 28, 0.5957446808510638),\n",
              " (frozenset({'B23Q 011'}), frozenset({'B23Q 003'}), 28, 0.7),\n",
              " (frozenset({'B23Q 011'}), frozenset({'G05B 019'}), 27, 0.675),\n",
              " (frozenset({'G05B 019'}), frozenset({'B23Q 011'}), 27, 0.45),\n",
              " (frozenset({'G06F 019'}), frozenset({'B23Q 011'}), 26, 0.4126984126984127),\n",
              " (frozenset({'B23Q 011'}), frozenset({'G06F 019'}), 26, 0.65),\n",
              " (frozenset({'B23Q 003'}), frozenset({'G05B 019'}), 29, 0.6170212765957447),\n",
              " (frozenset({'G05B 019'}), frozenset({'B23Q 003'}), 29, 0.48333333333333334),\n",
              " (frozenset({'G06F 019'}), frozenset({'B23Q 003'}), 29, 0.4603174603174603),\n",
              " (frozenset({'B23Q 003'}), frozenset({'G06F 019'}), 29, 0.6170212765957447),\n",
              " (frozenset({'G06F 019'}), frozenset({'G05B 019'}), 42, 0.6666666666666666),\n",
              " (frozenset({'G05B 019'}), frozenset({'G06F 019'}), 42, 0.7)]"
            ]
          },
          "metadata": {
            "tags": []
          },
          "execution_count": 26
        }
      ]
    },
    {
      "cell_type": "code",
      "metadata": {
        "colab": {
          "base_uri": "https://localhost:8080/"
        },
        "id": "RLkuOx768F1w",
        "outputId": "b2071f26-0d4f-4c54-81b6-351e0f39e1ba"
      },
      "source": [
        "from pymining import seqmining\n",
        "seqs = dataset#( 'caabc', 'abcb', 'cabc', 'abbca')\n",
        "freq_seqs = seqmining.freq_seq_enum(seqs, 25)\n",
        "sorted(freq_seqs)"
      ],
      "execution_count": 27,
      "outputs": [
        {
          "output_type": "execute_result",
          "data": {
            "text/plain": [
              "[(('B23Q 001',), 35),\n",
              " (('B23Q 003',), 47),\n",
              " (('B23Q 003', 'B23Q 003'), 25),\n",
              " (('B23Q 003', 'B23Q 011'), 25),\n",
              " (('B23Q 003', 'G05B 019'), 29),\n",
              " (('B23Q 003', 'G06F 019'), 25),\n",
              " (('B23Q 011',), 40),\n",
              " (('B23Q 017',), 27),\n",
              " (('G05B 019',), 60),\n",
              " (('G05B 019', 'G05B 019'), 34),\n",
              " (('G05B 019', 'G06F 019'), 26),\n",
              " (('G05B 019', 'G06F 019', 'G05B 019'), 25),\n",
              " (('G06F 017',), 27),\n",
              " (('G06F 019',), 63),\n",
              " (('G06F 019', 'G05B 019'), 41),\n",
              " (('G06F 019', 'G05B 019', 'G05B 019'), 26),\n",
              " (('G06F 019', 'G06F 019'), 38),\n",
              " (('G06F 019', 'G06F 019', 'G05B 019'), 29),\n",
              " (('G06F 019', 'G06F 019', 'G06F 019'), 28)]"
            ]
          },
          "metadata": {
            "tags": []
          },
          "execution_count": 27
        }
      ]
    },
    {
      "cell_type": "markdown",
      "metadata": {
        "id": "I1F5mjgYgA9D"
      },
      "source": [
        "Sample Code"
      ]
    },
    {
      "cell_type": "code",
      "metadata": {
        "colab": {
          "base_uri": "https://localhost:8080/",
          "height": 390
        },
        "id": "p9lWsKKTfHHe",
        "outputId": "2f90eaa7-8b74-41da-f7ad-8383ec97878b"
      },
      "source": [
        "import pandas as pd\n",
        "from mlxtend.preprocessing import TransactionEncoder\n",
        "from mlxtend.frequent_patterns import apriori\n",
        "dataset = [['Milk', 'Onion', 'Nutmeg', 'Kidney Beans', 'Eggs', 'Yogurt'],\n",
        "           ['Dill', 'Onion', 'Nutmeg', 'Kidney Beans', 'Eggs', 'Yogurt'],\n",
        "           ['Milk', 'Apple', 'Kidney Beans', 'Eggs'],\n",
        "           ['Milk', 'Unicorn', 'Corn', 'Kidney Beans', 'Yogurt'],\n",
        "           ['Corn', 'Onion', 'Onion', 'Kidney Beans', 'Ice cream', 'Eggs']]\n",
        "te = TransactionEncoder()\n",
        "te_ary = te.fit(dataset).transform(dataset)\n",
        "df = pd.DataFrame(te_ary, columns=te.columns_)\n",
        "apriori(df, min_support=0.6, use_colnames=True)\n"
      ],
      "execution_count": null,
      "outputs": [
        {
          "output_type": "execute_result",
          "data": {
            "text/html": [
              "<div>\n",
              "<style scoped>\n",
              "    .dataframe tbody tr th:only-of-type {\n",
              "        vertical-align: middle;\n",
              "    }\n",
              "\n",
              "    .dataframe tbody tr th {\n",
              "        vertical-align: top;\n",
              "    }\n",
              "\n",
              "    .dataframe thead th {\n",
              "        text-align: right;\n",
              "    }\n",
              "</style>\n",
              "<table border=\"1\" class=\"dataframe\">\n",
              "  <thead>\n",
              "    <tr style=\"text-align: right;\">\n",
              "      <th></th>\n",
              "      <th>support</th>\n",
              "      <th>itemsets</th>\n",
              "    </tr>\n",
              "  </thead>\n",
              "  <tbody>\n",
              "    <tr>\n",
              "      <th>0</th>\n",
              "      <td>0.8</td>\n",
              "      <td>(Eggs)</td>\n",
              "    </tr>\n",
              "    <tr>\n",
              "      <th>1</th>\n",
              "      <td>1.0</td>\n",
              "      <td>(Kidney Beans)</td>\n",
              "    </tr>\n",
              "    <tr>\n",
              "      <th>2</th>\n",
              "      <td>0.6</td>\n",
              "      <td>(Milk)</td>\n",
              "    </tr>\n",
              "    <tr>\n",
              "      <th>3</th>\n",
              "      <td>0.6</td>\n",
              "      <td>(Onion)</td>\n",
              "    </tr>\n",
              "    <tr>\n",
              "      <th>4</th>\n",
              "      <td>0.6</td>\n",
              "      <td>(Yogurt)</td>\n",
              "    </tr>\n",
              "    <tr>\n",
              "      <th>5</th>\n",
              "      <td>0.8</td>\n",
              "      <td>(Eggs, Kidney Beans)</td>\n",
              "    </tr>\n",
              "    <tr>\n",
              "      <th>6</th>\n",
              "      <td>0.6</td>\n",
              "      <td>(Onion, Eggs)</td>\n",
              "    </tr>\n",
              "    <tr>\n",
              "      <th>7</th>\n",
              "      <td>0.6</td>\n",
              "      <td>(Kidney Beans, Milk)</td>\n",
              "    </tr>\n",
              "    <tr>\n",
              "      <th>8</th>\n",
              "      <td>0.6</td>\n",
              "      <td>(Onion, Kidney Beans)</td>\n",
              "    </tr>\n",
              "    <tr>\n",
              "      <th>9</th>\n",
              "      <td>0.6</td>\n",
              "      <td>(Yogurt, Kidney Beans)</td>\n",
              "    </tr>\n",
              "    <tr>\n",
              "      <th>10</th>\n",
              "      <td>0.6</td>\n",
              "      <td>(Onion, Eggs, Kidney Beans)</td>\n",
              "    </tr>\n",
              "  </tbody>\n",
              "</table>\n",
              "</div>"
            ],
            "text/plain": [
              "    support                     itemsets\n",
              "0       0.8                       (Eggs)\n",
              "1       1.0               (Kidney Beans)\n",
              "2       0.6                       (Milk)\n",
              "3       0.6                      (Onion)\n",
              "4       0.6                     (Yogurt)\n",
              "5       0.8         (Eggs, Kidney Beans)\n",
              "6       0.6                (Onion, Eggs)\n",
              "7       0.6         (Kidney Beans, Milk)\n",
              "8       0.6        (Onion, Kidney Beans)\n",
              "9       0.6       (Yogurt, Kidney Beans)\n",
              "10      0.6  (Onion, Eggs, Kidney Beans)"
            ]
          },
          "metadata": {
            "tags": []
          },
          "execution_count": 61
        }
      ]
    },
    {
      "cell_type": "code",
      "metadata": {
        "id": "e8WC9ULBgEUy",
        "colab": {
          "base_uri": "https://localhost:8080/"
        },
        "outputId": "a232ca08-1765-4ba9-84b8-4866653cd09f"
      },
      "source": [
        "import numpy as np\n",
        "import matplotlib.pyplot as plt\n",
        "import matplotlib.gridspec as gridspec\n",
        "import itertools\n",
        "from sklearn.linear_model import LogisticRegression\n",
        "from sklearn.svm import SVC\n",
        "from sklearn.ensemble import RandomForestClassifier\n",
        "from mlxtend.classifier import EnsembleVoteClassifier\n",
        "from mlxtend.data import iris_data\n",
        "from mlxtend.plotting import plot_decision_regions\n",
        "# Initializing Classifiers\n",
        "clf1 = LogisticRegression(random_state=0)\n",
        "clf2 = RandomForestClassifier(random_state=0)\n",
        "clf3 = SVC(random_state=0, probability=True)\n",
        "eclf = EnsembleVoteClassifier(clfs=[clf1, clf2, clf3],\n",
        "                              weights=[2, 1, 1], voting='soft')\n",
        "\n",
        "# Loading some example data\n",
        "X, y = iris_data()\n",
        "X = X[:,[0, 2]]\n",
        "\n",
        "# Plotting Decision Regions\n",
        "gs = gridspec.GridSpec(2, 2)\n",
        "fig = plt.figure(figsize=(10, 8))\n",
        "\n",
        "labels = ['Logistic Regression',\n",
        "          'Random Forest',\n",
        "          'RBF kernel SVM',\n",
        "          'Ensemble']\n",
        "\n",
        "for clf, lab, grd in zip([clf1, clf2, clf3, eclf],\n",
        "                         labels,\n",
        "                         itertools.product([0, 1],\n",
        "                         repeat=2)):\n",
        "    clf.fit(X, y)\n",
        "    ax = plt.subplot(gs[grd[0], grd[1]])\n",
        "    fig = plot_decision_regions(X=X, y=y,\n",
        "                                clf=clf, legend=2)\n",
        "    plt.title(lab)\n",
        "\n",
        "plt.show()"
      ],
      "execution_count": 9,
      "outputs": [
        {
          "output_type": "stream",
          "text": [
            "/usr/local/lib/python3.7/dist-packages/sklearn/externals/six.py:31: FutureWarning: The module is deprecated in version 0.21 and will be removed in version 0.23 since we've dropped support for Python 2.7. Please rely on the official version of six (https://pypi.org/project/six/).\n",
            "  \"(https://pypi.org/project/six/).\", FutureWarning)\n"
          ],
          "name": "stderr"
        }
      ]
    },
    {
      "cell_type": "code",
      "metadata": {
        "colab": {
          "base_uri": "https://localhost:8080/"
        },
        "id": "XdhqW_hMU5K1",
        "outputId": "e5f0193c-dce6-4f53-a1ae-64cdceaf16a8"
      },
      "source": [
        "!pip install pymining"
      ],
      "execution_count": 35,
      "outputs": [
        {
          "output_type": "stream",
          "text": [
            "Collecting pymining\n",
            "  Downloading pymining-0.2-py2.py3-none-any.whl (9.4 kB)\n",
            "Installing collected packages: pymining\n",
            "Successfully installed pymining-0.2\n"
          ],
          "name": "stdout"
        }
      ]
    },
    {
      "cell_type": "code",
      "metadata": {
        "colab": {
          "base_uri": "https://localhost:8080/"
        },
        "id": "1Iun4VxOWLhJ",
        "outputId": "396f6527-3f30-4bdb-b8b6-22800aa8ae38"
      },
      "source": [
        "from pymining import itemmining\n",
        "transactions = (('a', 'b', 'c'), ('b'), ('a'), ('a', 'c', 'd'), ('b', 'c'), ('b', 'c'))\n",
        "relim_input = itemmining.get_relim_input(transactions)\n",
        "report = itemmining.relim(relim_input, min_support=2)\n",
        "report"
      ],
      "execution_count": 41,
      "outputs": [
        {
          "output_type": "execute_result",
          "data": {
            "text/plain": [
              "{frozenset({'a'}): 3,\n",
              " frozenset({'a', 'c'}): 2,\n",
              " frozenset({'b'}): 4,\n",
              " frozenset({'c'}): 4,\n",
              " frozenset({'b', 'c'}): 3}"
            ]
          },
          "metadata": {
            "tags": []
          },
          "execution_count": 41
        }
      ]
    },
    {
      "cell_type": "code",
      "metadata": {
        "colab": {
          "base_uri": "https://localhost:8080/",
          "height": 136
        },
        "id": "oW_JyYI7XdrA",
        "outputId": "cccd9778-c13c-4d7f-b162-d1f098afb50f"
      },
      "source": [
        "# Test performance of multiple algorithms\n",
        "from pymining import perftesting\n",
        "perftesting.test_itemset_perf()\n",
        "Random transactions generated with seed None"
      ],
      "execution_count": 42,
      "outputs": [
        {
          "output_type": "error",
          "ename": "SyntaxError",
          "evalue": "ignored",
          "traceback": [
            "\u001b[0;36m  File \u001b[0;32m\"<ipython-input-42-3836115e8434>\"\u001b[0;36m, line \u001b[0;32m4\u001b[0m\n\u001b[0;31m    Random transactions generated with seed None\u001b[0m\n\u001b[0m                      ^\u001b[0m\n\u001b[0;31mSyntaxError\u001b[0m\u001b[0;31m:\u001b[0m invalid syntax\n"
          ]
        }
      ]
    },
    {
      "cell_type": "code",
      "metadata": {
        "colab": {
          "base_uri": "https://localhost:8080/"
        },
        "id": "31HnPLMXXz5y",
        "outputId": "ac2079ea-db51-4f5b-f172-a3594f6ddd5d"
      },
      "source": [
        "from pymining import itemmining, assocrules, perftesting\n",
        "transactions = perftesting.get_default_transactions()\n",
        "relim_input = itemmining.get_relim_input(transactions)\n",
        "item_sets = itemmining.relim(relim_input, min_support=2)\n",
        "rules = assocrules.mine_assoc_rules(item_sets, min_support=2, min_confidence=0.5)\n",
        "rules"
      ],
      "execution_count": 43,
      "outputs": [
        {
          "output_type": "execute_result",
          "data": {
            "text/plain": [
              "[(frozenset({'c', 'd'}), frozenset({'e'}), 2, 0.6666666666666666),\n",
              " (frozenset({'d', 'e'}), frozenset({'c'}), 2, 0.6666666666666666),\n",
              " (frozenset({'e'}), frozenset({'c', 'd'}), 2, 0.6666666666666666),\n",
              " (frozenset({'c', 'e'}), frozenset({'d'}), 2, 1.0),\n",
              " (frozenset({'d', 'e'}), frozenset({'b'}), 2, 0.6666666666666666),\n",
              " (frozenset({'e'}), frozenset({'b', 'd'}), 2, 0.6666666666666666),\n",
              " (frozenset({'b', 'e'}), frozenset({'d'}), 2, 1.0),\n",
              " (frozenset({'a', 'd'}), frozenset({'b'}), 2, 0.5),\n",
              " (frozenset({'a'}), frozenset({'b', 'd'}), 2, 0.5),\n",
              " (frozenset({'a', 'b'}), frozenset({'d'}), 2, 1.0),\n",
              " (frozenset({'c', 'd'}), frozenset({'b'}), 2, 0.6666666666666666),\n",
              " (frozenset({'b', 'c'}), frozenset({'d'}), 2, 0.5),\n",
              " (frozenset({'e'}), frozenset({'c'}), 2, 0.6666666666666666),\n",
              " (frozenset({'e'}), frozenset({'b'}), 2, 0.6666666666666666),\n",
              " (frozenset({'e'}), frozenset({'d'}), 3, 1.0),\n",
              " (frozenset({'a'}), frozenset({'b'}), 2, 0.5),\n",
              " (frozenset({'a'}), frozenset({'d'}), 4, 1.0),\n",
              " (frozenset({'d'}), frozenset({'a'}), 4, 0.5),\n",
              " (frozenset({'b'}), frozenset({'c'}), 4, 0.5),\n",
              " (frozenset({'c'}), frozenset({'b'}), 4, 0.8),\n",
              " (frozenset({'c'}), frozenset({'d'}), 3, 0.6),\n",
              " (frozenset({'d'}), frozenset({'b'}), 6, 0.75),\n",
              " (frozenset({'b'}), frozenset({'d'}), 6, 0.75)]"
            ]
          },
          "metadata": {
            "tags": []
          },
          "execution_count": 43
        }
      ]
    },
    {
      "cell_type": "code",
      "metadata": {
        "colab": {
          "base_uri": "https://localhost:8080/"
        },
        "id": "VXPyRjBQX2uB",
        "outputId": "45e29803-2840-4e0e-9e81-7a64395e614e"
      },
      "source": [
        "from pymining import seqmining\n",
        "seqs = ( 'caabc', 'abcb', 'cabc', 'abbca')\n",
        "freq_seqs = seqmining.freq_seq_enum(seqs, 2)\n",
        "sorted(freq_seqs)"
      ],
      "execution_count": 44,
      "outputs": [
        {
          "output_type": "execute_result",
          "data": {
            "text/plain": [
              "[(('a',), 4),\n",
              " (('a', 'a'), 2),\n",
              " (('a', 'b'), 4),\n",
              " (('a', 'b', 'b'), 2),\n",
              " (('a', 'b', 'c'), 4),\n",
              " (('a', 'c'), 4),\n",
              " (('b',), 4),\n",
              " (('b', 'b'), 2),\n",
              " (('b', 'c'), 4),\n",
              " (('c',), 4),\n",
              " (('c', 'a'), 3),\n",
              " (('c', 'a', 'b'), 2),\n",
              " (('c', 'a', 'b', 'c'), 2),\n",
              " (('c', 'a', 'c'), 2),\n",
              " (('c', 'b'), 3),\n",
              " (('c', 'b', 'c'), 2),\n",
              " (('c', 'c'), 2)]"
            ]
          },
          "metadata": {
            "tags": []
          },
          "execution_count": 44
        }
      ]
    },
    {
      "cell_type": "code",
      "metadata": {
        "colab": {
          "base_uri": "https://localhost:8080/"
        },
        "id": "QRGn4RnLYEL-",
        "outputId": "b7ddafdf-2bc0-44dd-9477-6ffebc8a7415"
      },
      "source": [
        "freq_seqs = seqmining.freq_seq_enum(R, 25)\n",
        "sorted(freq_seqs)"
      ],
      "execution_count": 52,
      "outputs": [
        {
          "output_type": "execute_result",
          "data": {
            "text/plain": [
              "[(('B23Q 001',), 35),\n",
              " (('B23Q 003',), 47),\n",
              " (('B23Q 003', 'B23Q 003'), 25),\n",
              " (('B23Q 003', 'B23Q 011'), 25),\n",
              " (('B23Q 003', 'G05B 019'), 29),\n",
              " (('B23Q 003', 'G06F 019'), 25),\n",
              " (('B23Q 011',), 40),\n",
              " (('B23Q 017',), 27),\n",
              " (('G05B 019',), 60),\n",
              " (('G05B 019', 'G05B 019'), 34),\n",
              " (('G05B 019', 'G06F 019'), 26),\n",
              " (('G05B 019', 'G06F 019', 'G05B 019'), 25),\n",
              " (('G06F 017',), 27),\n",
              " (('G06F 019',), 63),\n",
              " (('G06F 019', 'G05B 019'), 41),\n",
              " (('G06F 019', 'G05B 019', 'G05B 019'), 26),\n",
              " (('G06F 019', 'G06F 019'), 38),\n",
              " (('G06F 019', 'G06F 019', 'G05B 019'), 29),\n",
              " (('G06F 019', 'G06F 019', 'G06F 019'), 28)]"
            ]
          },
          "metadata": {
            "tags": []
          },
          "execution_count": 52
        }
      ]
    },
    {
      "cell_type": "code",
      "metadata": {
        "colab": {
          "base_uri": "https://localhost:8080/"
        },
        "id": "zzGvfEpCYW6A",
        "outputId": "ef7e723c-f90e-4fc4-b1a0-5e2b9a57156c"
      },
      "source": [
        "len(R)"
      ],
      "execution_count": 50,
      "outputs": [
        {
          "output_type": "execute_result",
          "data": {
            "text/plain": [
              "122"
            ]
          },
          "metadata": {
            "tags": []
          },
          "execution_count": 50
        }
      ]
    },
    {
      "cell_type": "code",
      "metadata": {
        "id": "RkabrTVPYkIp"
      },
      "source": [
        ""
      ],
      "execution_count": null,
      "outputs": []
    }
  ]
}